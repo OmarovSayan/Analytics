{
 "cells": [
  {
   "cell_type": "markdown",
   "id": "1cd3b914",
   "metadata": {},
   "source": [
    "# Create function that counts number of dependencies of source edge "
   ]
  },
  {
   "cell_type": "code",
   "execution_count": null,
   "id": "e16a7277",
   "metadata": {},
   "outputs": [],
   "source": [
    "import pandas as pd\n",
    "import networkx as nx\n",
    "\n",
    "# read data with parent-child deps\n",
    "df  = pd.read_csv(\"autonpairs.csv\")\n",
    "df = df[[\"parent\", \"child\"]]\n",
    "\n",
    "\n",
    "lst = [] # create list to hold our child-parent relationships.\n",
    "for x in range(df.shape[0]):\n",
    "    child, parent = df[\"parent\"].tolist()[x], df[\"child\"].tolist()[x]\n",
    "    lst.append((child, parent))\n",
    "\n",
    "\n",
    "# create unique nodes for graph\n",
    "nodes = list(set(df[\"parent\"].unique().tolist() + df[\"child\"].unique().tolist()))\n",
    "\n",
    "# create graph\n",
    "G=nx.DiGraph()\n",
    "#add edges(relationships)\n",
    "edges = lst\n",
    "G.add_edges_from(edges)\n",
    "G.add_nodes_from(nodes)\n",
    "\n",
    "#count num of deps for every node(even if it is nested, not only first level deps)\n",
    "#https://sgyzetrov.github.io/Using_NetworkX_to_find_all_reachable_nodes_in_graph.html\n",
    "for i in nodes:\n",
    "    print(i, len(nx.descendants(G, i)))"
   ]
  }
 ],
 "metadata": {
  "kernelspec": {
   "display_name": "Python 3 (ipykernel)",
   "language": "python",
   "name": "python3"
  },
  "language_info": {
   "codemirror_mode": {
    "name": "ipython",
    "version": 3
   },
   "file_extension": ".py",
   "mimetype": "text/x-python",
   "name": "python",
   "nbconvert_exporter": "python",
   "pygments_lexer": "ipython3",
   "version": "3.9.12"
  }
 },
 "nbformat": 4,
 "nbformat_minor": 5
}
